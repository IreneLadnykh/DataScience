{
 "cells": [
  {
   "cell_type": "code",
   "execution_count": 9,
   "id": "33a09d12",
   "metadata": {},
   "outputs": [],
   "source": [
    "import numpy as np\n",
    "import pandas as pd\n",
    "import scipy.stats as st\n",
    "pd.set_option('display.max_columns', None)\n",
    "import math\n",
    "import matplotlib.pyplot as plt\n",
    "%matplotlib inline\n",
    "import seaborn as sns\n",
    "sns.set_style('whitegrid')\n",
    "import missingno as msno\n",
    "from sklearn.preprocessing import StandardScaler\n",
    "from scipy import stats\n",
    "from pandas_profiling import ProfileReport"
   ]
  },
  {
   "cell_type": "code",
   "execution_count": 10,
   "id": "80660c0d",
   "metadata": {},
   "outputs": [
    {
     "name": "stdout",
     "output_type": "stream",
     "text": [
      "<class 'pandas.core.frame.DataFrame'>\n",
      "RangeIndex: 195 entries, 0 to 194\n",
      "Data columns (total 25 columns):\n",
      " #   Column                   Non-Null Count  Dtype  \n",
      "---  ------                   --------------  -----  \n",
      " 0   ID                       195 non-null    int64  \n",
      " 1   Building                 195 non-null    int64  \n",
      " 2   Year of sale             195 non-null    int64  \n",
      " 3   Month of sale            195 non-null    int64  \n",
      " 4   Type of property         195 non-null    object \n",
      " 5   Property number          195 non-null    int64  \n",
      " 6   Area (ft.)               195 non-null    float64\n",
      " 7   Price                    195 non-null    object \n",
      " 8   Status                   195 non-null    object \n",
      " 9   Customer ID              195 non-null    object \n",
      " 10  Entity                   195 non-null    object \n",
      " 11  Name                     195 non-null    object \n",
      " 12  Surname                  195 non-null    object \n",
      " 13  Age at time of purchase  178 non-null    float64\n",
      " 14  Age Interval             178 non-null    object \n",
      " 15  Y                        178 non-null    float64\n",
      " 16  M                        178 non-null    float64\n",
      " 17  D                        178 non-null    float64\n",
      " 18  Gender                   178 non-null    object \n",
      " 19  Country                  195 non-null    object \n",
      " 20  State                    181 non-null    object \n",
      " 21  Purpose                  195 non-null    object \n",
      " 22  Deal satisfaction        195 non-null    int64  \n",
      " 23  Mortgage                 195 non-null    object \n",
      " 24  Source                   195 non-null    object \n",
      "dtypes: float64(5), int64(6), object(14)\n",
      "memory usage: 38.2+ KB\n"
     ]
    }
   ],
   "source": [
    "#Необходимо прочитать файл, чтобы узнать какие есть первоначальные данные\n",
    "realt=pd.read_csv('C:/Data Science/2_Task/Descriptive_stat/clients.csv', delimiter=',')\n",
    "realt.info()"
   ]
  },
  {
   "cell_type": "code",
   "execution_count": 11,
   "id": "fdfdb5f3",
   "metadata": {},
   "outputs": [],
   "source": [
    "#Скопируем первоначальный датафрейм, чтобы не портить оригинал\n",
    "realt_copy=realt.copy()"
   ]
  },
  {
   "cell_type": "code",
   "execution_count": 12,
   "id": "955e902c",
   "metadata": {
    "scrolled": true
   },
   "outputs": [
    {
     "data": {
      "text/html": [
       "<div>\n",
       "<style scoped>\n",
       "    .dataframe tbody tr th:only-of-type {\n",
       "        vertical-align: middle;\n",
       "    }\n",
       "\n",
       "    .dataframe tbody tr th {\n",
       "        vertical-align: top;\n",
       "    }\n",
       "\n",
       "    .dataframe thead th {\n",
       "        text-align: right;\n",
       "    }\n",
       "</style>\n",
       "<table border=\"1\" class=\"dataframe\">\n",
       "  <thead>\n",
       "    <tr style=\"text-align: right;\">\n",
       "      <th></th>\n",
       "      <th>ID</th>\n",
       "      <th>Building</th>\n",
       "      <th>Year of sale</th>\n",
       "      <th>Month of sale</th>\n",
       "      <th>Property number</th>\n",
       "      <th>Area (ft.)</th>\n",
       "      <th>Age at time of purchase</th>\n",
       "      <th>Y</th>\n",
       "      <th>M</th>\n",
       "      <th>D</th>\n",
       "      <th>Deal satisfaction</th>\n",
       "    </tr>\n",
       "  </thead>\n",
       "  <tbody>\n",
       "    <tr>\n",
       "      <th>count</th>\n",
       "      <td>195.000000</td>\n",
       "      <td>195.000000</td>\n",
       "      <td>195.000000</td>\n",
       "      <td>195.000000</td>\n",
       "      <td>195.000000</td>\n",
       "      <td>195.000000</td>\n",
       "      <td>178.000000</td>\n",
       "      <td>178.000000</td>\n",
       "      <td>178.000000</td>\n",
       "      <td>178.000000</td>\n",
       "      <td>195.000000</td>\n",
       "    </tr>\n",
       "    <tr>\n",
       "      <th>mean</th>\n",
       "      <td>2591.425641</td>\n",
       "      <td>2.564103</td>\n",
       "      <td>2006.333333</td>\n",
       "      <td>7.271795</td>\n",
       "      <td>27.328205</td>\n",
       "      <td>899.867128</td>\n",
       "      <td>46.151685</td>\n",
       "      <td>1960.325843</td>\n",
       "      <td>6.752809</td>\n",
       "      <td>15.449438</td>\n",
       "      <td>3.605128</td>\n",
       "    </tr>\n",
       "    <tr>\n",
       "      <th>std</th>\n",
       "      <td>1244.617996</td>\n",
       "      <td>1.243434</td>\n",
       "      <td>1.072941</td>\n",
       "      <td>3.378674</td>\n",
       "      <td>14.830832</td>\n",
       "      <td>261.489550</td>\n",
       "      <td>12.841692</td>\n",
       "      <td>12.835575</td>\n",
       "      <td>3.450312</td>\n",
       "      <td>8.457285</td>\n",
       "      <td>1.363355</td>\n",
       "    </tr>\n",
       "    <tr>\n",
       "      <th>min</th>\n",
       "      <td>1002.000000</td>\n",
       "      <td>1.000000</td>\n",
       "      <td>2004.000000</td>\n",
       "      <td>1.000000</td>\n",
       "      <td>1.000000</td>\n",
       "      <td>410.710000</td>\n",
       "      <td>19.000000</td>\n",
       "      <td>1931.000000</td>\n",
       "      <td>1.000000</td>\n",
       "      <td>1.000000</td>\n",
       "      <td>1.000000</td>\n",
       "    </tr>\n",
       "    <tr>\n",
       "      <th>25%</th>\n",
       "      <td>2003.500000</td>\n",
       "      <td>2.000000</td>\n",
       "      <td>2006.000000</td>\n",
       "      <td>4.000000</td>\n",
       "      <td>15.000000</td>\n",
       "      <td>739.860000</td>\n",
       "      <td>37.000000</td>\n",
       "      <td>1950.250000</td>\n",
       "      <td>4.000000</td>\n",
       "      <td>8.000000</td>\n",
       "      <td>3.000000</td>\n",
       "    </tr>\n",
       "    <tr>\n",
       "      <th>50%</th>\n",
       "      <td>2054.000000</td>\n",
       "      <td>2.000000</td>\n",
       "      <td>2007.000000</td>\n",
       "      <td>8.000000</td>\n",
       "      <td>27.000000</td>\n",
       "      <td>785.480000</td>\n",
       "      <td>45.000000</td>\n",
       "      <td>1962.000000</td>\n",
       "      <td>6.000000</td>\n",
       "      <td>15.000000</td>\n",
       "      <td>4.000000</td>\n",
       "    </tr>\n",
       "    <tr>\n",
       "      <th>75%</th>\n",
       "      <td>3048.500000</td>\n",
       "      <td>3.000000</td>\n",
       "      <td>2007.000000</td>\n",
       "      <td>10.000000</td>\n",
       "      <td>39.000000</td>\n",
       "      <td>1075.460000</td>\n",
       "      <td>55.000000</td>\n",
       "      <td>1969.750000</td>\n",
       "      <td>9.750000</td>\n",
       "      <td>23.750000</td>\n",
       "      <td>5.000000</td>\n",
       "    </tr>\n",
       "    <tr>\n",
       "      <th>max</th>\n",
       "      <td>5051.000000</td>\n",
       "      <td>5.000000</td>\n",
       "      <td>2010.000000</td>\n",
       "      <td>12.000000</td>\n",
       "      <td>59.000000</td>\n",
       "      <td>1942.500000</td>\n",
       "      <td>76.000000</td>\n",
       "      <td>1986.000000</td>\n",
       "      <td>15.000000</td>\n",
       "      <td>31.000000</td>\n",
       "      <td>5.000000</td>\n",
       "    </tr>\n",
       "  </tbody>\n",
       "</table>\n",
       "</div>"
      ],
      "text/plain": [
       "                ID    Building  Year of sale  Month of sale  Property number  \\\n",
       "count   195.000000  195.000000    195.000000     195.000000       195.000000   \n",
       "mean   2591.425641    2.564103   2006.333333       7.271795        27.328205   \n",
       "std    1244.617996    1.243434      1.072941       3.378674        14.830832   \n",
       "min    1002.000000    1.000000   2004.000000       1.000000         1.000000   \n",
       "25%    2003.500000    2.000000   2006.000000       4.000000        15.000000   \n",
       "50%    2054.000000    2.000000   2007.000000       8.000000        27.000000   \n",
       "75%    3048.500000    3.000000   2007.000000      10.000000        39.000000   \n",
       "max    5051.000000    5.000000   2010.000000      12.000000        59.000000   \n",
       "\n",
       "        Area (ft.)  Age at time of purchase            Y           M  \\\n",
       "count   195.000000               178.000000   178.000000  178.000000   \n",
       "mean    899.867128                46.151685  1960.325843    6.752809   \n",
       "std     261.489550                12.841692    12.835575    3.450312   \n",
       "min     410.710000                19.000000  1931.000000    1.000000   \n",
       "25%     739.860000                37.000000  1950.250000    4.000000   \n",
       "50%     785.480000                45.000000  1962.000000    6.000000   \n",
       "75%    1075.460000                55.000000  1969.750000    9.750000   \n",
       "max    1942.500000                76.000000  1986.000000   15.000000   \n",
       "\n",
       "                D  Deal satisfaction  \n",
       "count  178.000000         195.000000  \n",
       "mean    15.449438           3.605128  \n",
       "std      8.457285           1.363355  \n",
       "min      1.000000           1.000000  \n",
       "25%      8.000000           3.000000  \n",
       "50%     15.000000           4.000000  \n",
       "75%     23.750000           5.000000  \n",
       "max     31.000000           5.000000  "
      ]
     },
     "execution_count": 12,
     "metadata": {},
     "output_type": "execute_result"
    }
   ],
   "source": [
    "realt_copy.describe()"
   ]
  },
  {
   "cell_type": "code",
   "execution_count": 13,
   "id": "d7cfc841",
   "metadata": {},
   "outputs": [
    {
     "data": {
      "text/plain": [
       "ID                          0\n",
       "Building                    0\n",
       "Year of sale                0\n",
       "Month of sale               0\n",
       "Type of property            0\n",
       "Property number             0\n",
       "Area (ft.)                  0\n",
       "Price                       0\n",
       "Status                      0\n",
       "Customer ID                 0\n",
       "Entity                      0\n",
       "Name                        0\n",
       "Surname                     0\n",
       "Age at time of purchase    17\n",
       "Age Interval               17\n",
       "Y                          17\n",
       "M                          17\n",
       "D                          17\n",
       "Gender                     17\n",
       "Country                     0\n",
       "State                      14\n",
       "Purpose                     0\n",
       "Deal satisfaction           0\n",
       "Mortgage                    0\n",
       "Source                      0\n",
       "Area                        0\n",
       "dtype: int64"
      ]
     },
     "execution_count": 13,
     "metadata": {},
     "output_type": "execute_result"
    }
   ],
   "source": [
    "realt_copy['Area'] = (realt_copy['Area (ft.)']*0.092903).round(decimals = 2)\n",
    "realt_copy['Price'] = realt_copy['Price'].replace('[\\$,]', '', regex = True).astype(float)\n",
    "#Смотрим пропущенные значения\n",
    "realt_copy.isnull().sum()"
   ]
  },
  {
   "cell_type": "code",
   "execution_count": 14,
   "id": "d6828496",
   "metadata": {},
   "outputs": [
    {
     "data": {
      "text/plain": [
       "array([2005, 2007, 2004, 2008, 2006, 2010], dtype=int64)"
      ]
     },
     "execution_count": 14,
     "metadata": {},
     "output_type": "execute_result"
    }
   ],
   "source": [
    "#У нас маркетинговый анализ и есть такая колонка как год продажи. Моя гипотеза такова: скорее всего каждый год вносились какие-то изменения в маркетинговую стратегию, также есть колонка ипотека (возможно тоже были какие-то изменения в правилах кредитования.)\n",
    "# Поэтому я посмотрю за какие года есть статистика и принимаю решение разбить портрет целевого клиента по годам. Это позволит нам отследить как менялся портрет целевого клиента. И каков он последний год, когда есть данные.\n",
    "realt_copy['Year of sale'].unique()\n",
    "#И так вся выборка для клиентов разных годов. Я бы для анализа данных выбрала бы следующую статегию.\n",
    "#Клиентов поделить по двум категориям:\n",
    "#постоянные клиенты, т.е. совершили больше одной покупки в компании\n",
    "#покупки по годам (тут я не буду учитывать у нас клиент первичный или вторичный, просто буду смотреть что он купил и какой портер клиента будет в каждом коду)\n",
    "#Я считаю, что важно для любых маркетинговых стратегий разделять эти две группы и рассматривать дополнительно их отдельно\n",
    "#и в конце посмотерь статистику, если бы мы не разделяли по годам, а взяли бы всех клиентов одним датасетом"
   ]
  },
  {
   "cell_type": "code",
   "execution_count": 15,
   "id": "5edc4509",
   "metadata": {},
   "outputs": [
    {
     "data": {
      "text/plain": [
       "178"
      ]
     },
     "execution_count": 15,
     "metadata": {},
     "output_type": "execute_result"
    }
   ],
   "source": [
    "#Выше получается, что у нас 17 нулевых строк. Я бы выкинула их, т.к. это меньге 10% от всей выборки, а отсутствующие данные яаляются ключевыми, поэтому я удалю из датасета все строки с нулевами значениями\n",
    "#realt_clean = realt_copy.loc[realt_copy['Age at time of purchase'].isnull()]\n",
    "#realt_clean = realt_copy.drop(np.where(realt_copy['Age at time of purchase'] == 0) [0])\n",
    "a=realt_copy.fillna(0)\n",
    "realt_clean = a.drop(a[a['Age at time of purchase'] == 0].index)\n",
    "realt_clean.isnull().sum()\n",
    "#realt_clean.info()\n",
    "#Получили новый дата сет без нулевых значений\n",
    "realt_c=realt_clean.copy()\n",
    "realt_clean['Customer ID'].count()\n"
   ]
  },
  {
   "cell_type": "code",
   "execution_count": 18,
   "id": "7f91d520",
   "metadata": {},
   "outputs": [
    {
     "data": {
      "application/vnd.jupyter.widget-view+json": {
       "model_id": "b727a5f94e914f96b25dd99082f68847",
       "version_major": 2,
       "version_minor": 0
      },
      "text/plain": [
       "Summarize dataset:   0%|          | 0/5 [00:00<?, ?it/s]"
      ]
     },
     "metadata": {},
     "output_type": "display_data"
    },
    {
     "data": {
      "application/vnd.jupyter.widget-view+json": {
       "model_id": "4b553f3e388744f6b80f5c569cac417e",
       "version_major": 2,
       "version_minor": 0
      },
      "text/plain": [
       "Generate report structure:   0%|          | 0/1 [00:00<?, ?it/s]"
      ]
     },
     "metadata": {},
     "output_type": "display_data"
    },
    {
     "data": {
      "application/vnd.jupyter.widget-view+json": {
       "model_id": "389b95a0e8344a11961e8bb473fdcc1a",
       "version_major": 2,
       "version_minor": 0
      },
      "text/plain": [
       "Render HTML:   0%|          | 0/1 [00:00<?, ?it/s]"
      ]
     },
     "metadata": {},
     "output_type": "display_data"
    },
    {
     "data": {
      "application/vnd.jupyter.widget-view+json": {
       "model_id": "dbd19477e13945188a21a653d07af049",
       "version_major": 2,
       "version_minor": 0
      },
      "text/plain": [
       "Export report to file:   0%|          | 0/1 [00:00<?, ?it/s]"
      ]
     },
     "metadata": {},
     "output_type": "display_data"
    }
   ],
   "source": [
    "#Создам новые даты сеты для каждого года.\n",
    "#2004\n",
    "realt_2004 = realt_c.drop(realt_c[realt_c['Year of sale'] != 2004].index)\n",
    "realt_2004.info\n",
    "#удаление дубликатов\n",
    "realt_2004.drop_duplicates(subset=['Customer ID'])\n",
    "report_2004 = ProfileReport(realt_2004, title = \"Clients 2004\", explorative=True, minimal=True)\n",
    "report_2004.to_file(\"./report_2004.html\")"
   ]
  },
  {
   "cell_type": "code",
   "execution_count": 17,
   "id": "3a0c73cb",
   "metadata": {},
   "outputs": [
    {
     "data": {
      "application/vnd.jupyter.widget-view+json": {
       "model_id": "2791058e940c41e1ae3e2f9c02093576",
       "version_major": 2,
       "version_minor": 0
      },
      "text/plain": [
       "Summarize dataset:   0%|          | 0/5 [00:00<?, ?it/s]"
      ]
     },
     "metadata": {},
     "output_type": "display_data"
    },
    {
     "data": {
      "application/vnd.jupyter.widget-view+json": {
       "model_id": "e56579df1b3a4b5385aef8be2155cb85",
       "version_major": 2,
       "version_minor": 0
      },
      "text/plain": [
       "Generate report structure:   0%|          | 0/1 [00:00<?, ?it/s]"
      ]
     },
     "metadata": {},
     "output_type": "display_data"
    },
    {
     "data": {
      "application/vnd.jupyter.widget-view+json": {
       "model_id": "21a2b29537ef49c3bd43111327fe8d8e",
       "version_major": 2,
       "version_minor": 0
      },
      "text/plain": [
       "Render HTML:   0%|          | 0/1 [00:00<?, ?it/s]"
      ]
     },
     "metadata": {},
     "output_type": "display_data"
    },
    {
     "data": {
      "application/vnd.jupyter.widget-view+json": {
       "model_id": "4fef235adc3a4f2d85b6e3500142c337",
       "version_major": 2,
       "version_minor": 0
      },
      "text/plain": [
       "Export report to file:   0%|          | 0/1 [00:00<?, ?it/s]"
      ]
     },
     "metadata": {},
     "output_type": "display_data"
    }
   ],
   "source": [
    "#Создам новые даты сеты для каждого года.\n",
    "#2005\n",
    "realt_2005 = realt_clean.drop(realt_clean[realt_clean['Year of sale'] != 2005].index)\n",
    "realt_2005.info\n",
    "#удаление дубликатов\n",
    "realt_2005.drop_duplicates(subset=['Customer ID'])\n",
    "report_2005 = ProfileReport(realt_2004, title = \"Clients 2005\", explorative=True, minimal=True)\n",
    "report_2005.to_file(\"./report_2005.html\")"
   ]
  },
  {
   "cell_type": "code",
   "execution_count": 19,
   "id": "93f9aa3e",
   "metadata": {},
   "outputs": [
    {
     "data": {
      "application/vnd.jupyter.widget-view+json": {
       "model_id": "e45ff12762444511a3b1966ed7676450",
       "version_major": 2,
       "version_minor": 0
      },
      "text/plain": [
       "Summarize dataset:   0%|          | 0/5 [00:00<?, ?it/s]"
      ]
     },
     "metadata": {},
     "output_type": "display_data"
    },
    {
     "data": {
      "application/vnd.jupyter.widget-view+json": {
       "model_id": "7a988893e025444da2e19986bd2e6974",
       "version_major": 2,
       "version_minor": 0
      },
      "text/plain": [
       "Generate report structure:   0%|          | 0/1 [00:00<?, ?it/s]"
      ]
     },
     "metadata": {},
     "output_type": "display_data"
    },
    {
     "data": {
      "application/vnd.jupyter.widget-view+json": {
       "model_id": "211ccd87c5d849a7b8ca064cb7d97a4d",
       "version_major": 2,
       "version_minor": 0
      },
      "text/plain": [
       "Render HTML:   0%|          | 0/1 [00:00<?, ?it/s]"
      ]
     },
     "metadata": {},
     "output_type": "display_data"
    },
    {
     "data": {
      "application/vnd.jupyter.widget-view+json": {
       "model_id": "5b415fd72f4f471880deaee38cdca4c3",
       "version_major": 2,
       "version_minor": 0
      },
      "text/plain": [
       "Export report to file:   0%|          | 0/1 [00:00<?, ?it/s]"
      ]
     },
     "metadata": {},
     "output_type": "display_data"
    }
   ],
   "source": [
    "#Создам новые даты сеты для каждого года.\n",
    "#2006\n",
    "realt_2006 = realt_c.drop(realt_clean[realt_clean['Year of sale'] != 2006].index)\n",
    "realt_2006.info\n",
    "#удаление дубликатов\n",
    "realt_2006.drop_duplicates(subset=['Customer ID'])\n",
    "report_2006 = ProfileReport(realt_2006, title = \"Clients 2006\", explorative=True, minimal=True)\n",
    "report_2006.to_file(\"./report_2006.html\")"
   ]
  },
  {
   "cell_type": "code",
   "execution_count": 21,
   "id": "db70229e",
   "metadata": {},
   "outputs": [
    {
     "data": {
      "application/vnd.jupyter.widget-view+json": {
       "model_id": "a910f0ff6b5842328fc92bbb5c91a8b4",
       "version_major": 2,
       "version_minor": 0
      },
      "text/plain": [
       "Summarize dataset:   0%|          | 0/5 [00:00<?, ?it/s]"
      ]
     },
     "metadata": {},
     "output_type": "display_data"
    },
    {
     "data": {
      "application/vnd.jupyter.widget-view+json": {
       "model_id": "a1b63859480d4e74884c57a04c04eeda",
       "version_major": 2,
       "version_minor": 0
      },
      "text/plain": [
       "Generate report structure:   0%|          | 0/1 [00:00<?, ?it/s]"
      ]
     },
     "metadata": {},
     "output_type": "display_data"
    },
    {
     "data": {
      "application/vnd.jupyter.widget-view+json": {
       "model_id": "7283104bc6d549d786ca4b390161f845",
       "version_major": 2,
       "version_minor": 0
      },
      "text/plain": [
       "Render HTML:   0%|          | 0/1 [00:00<?, ?it/s]"
      ]
     },
     "metadata": {},
     "output_type": "display_data"
    },
    {
     "data": {
      "application/vnd.jupyter.widget-view+json": {
       "model_id": "4ff4babfcd8045b18b10a50dcf0ddca4",
       "version_major": 2,
       "version_minor": 0
      },
      "text/plain": [
       "Export report to file:   0%|          | 0/1 [00:00<?, ?it/s]"
      ]
     },
     "metadata": {},
     "output_type": "display_data"
    }
   ],
   "source": [
    "#Создам новые даты сеты для каждого года.\n",
    "#2007\n",
    "realt_2007 = realt_c.drop(realt_clean[realt_clean['Year of sale'] != 2007].index)\n",
    "realt_2007.info\n",
    "#удаление дубликатов\n",
    "realt_2007.drop_duplicates(subset=['Customer ID'])\n",
    "report_2007 = ProfileReport(realt_2007, title = \"Clients 2007\", explorative=True, minimal=True)\n",
    "report_2007.to_file(\"./report_2007.html\")"
   ]
  },
  {
   "cell_type": "code",
   "execution_count": null,
   "id": "f84b798c",
   "metadata": {},
   "outputs": [],
   "source": [
    "#Создам новые даты сеты для каждого года.\n",
    "#2008\n",
    "realt_2008 = realt_c.drop(realt_clean[realt_clean['Year of sale'] != 2008].index)\n",
    "realt_2008.info\n",
    "#удаление дубликатов\n",
    "realt_2008.drop_duplicates(subset=['Customer ID'])\n",
    "report_2008 = ProfileReport(realt_2004, title = \"Clients 2008\", explorative=True, minimal=True)\n",
    "report_2008.to_file(\"./report_2008.html\")"
   ]
  },
  {
   "cell_type": "code",
   "execution_count": null,
   "id": "94d62fe4",
   "metadata": {},
   "outputs": [],
   "source": [
    "#Создам новые даты сеты для каждого года.\n",
    "#2010\n",
    "realt_2010 = realt_c.drop(realt_clean[realt_clean['Year of sale'] != 2010].index)\n",
    "realt_2010.info\n",
    "#удаление дубликатов\n",
    "realt_2010.drop_duplicates(subset=['Customer ID'])\n",
    "report_2010 = ProfileReport(realt_2004, title = \"Clients 2010\", explorative=True, minimal=True)\n",
    "report_2010.to_file(\"./report_2010.html\")"
   ]
  },
  {
   "cell_type": "code",
   "execution_count": 129,
   "id": "b96d2150",
   "metadata": {},
   "outputs": [
    {
     "data": {
      "text/plain": [
       "1    142\n",
       "2     17\n",
       "9      1\n",
       "7      1\n",
       "3      1\n",
       "Name: Customer ID, dtype: int64"
      ]
     },
     "execution_count": 129,
     "metadata": {},
     "output_type": "execute_result"
    }
   ],
   "source": [
    "#Создам новые даты сеты для постоянных клиентов.\n",
    "#Посмотрим, если у нас постоянные клиенты\n",
    "a=realt_copy['Customer ID'].value_counts()\n",
    "a.info\n",
    "#Но что делать дальше с этими клиентами, у меня не появилось идей, так как я посмотрела, что их всего 20 человек.  \n",
    "\n",
    "a.value_counts()"
   ]
  }
 ],
 "metadata": {
  "kernelspec": {
   "display_name": "Python 3 (ipykernel)",
   "language": "python",
   "name": "python3"
  },
  "language_info": {
   "codemirror_mode": {
    "name": "ipython",
    "version": 3
   },
   "file_extension": ".py",
   "mimetype": "text/x-python",
   "name": "python",
   "nbconvert_exporter": "python",
   "pygments_lexer": "ipython3",
   "version": "3.9.12"
  }
 },
 "nbformat": 4,
 "nbformat_minor": 5
}
